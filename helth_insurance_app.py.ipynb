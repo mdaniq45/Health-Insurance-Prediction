{
 "cells": [
  {
   "cell_type": "code",
   "execution_count": 1,
   "id": "736dea62-05cd-4892-867c-cc2f75f95876",
   "metadata": {},
   "outputs": [],
   "source": [
    "import os"
   ]
  },
  {
   "cell_type": "code",
   "execution_count": 2,
   "id": "67412512-5c07-4108-8b5b-1c294edd64a1",
   "metadata": {},
   "outputs": [
    {
     "data": {
      "text/plain": [
       "<function nt.system(command)>"
      ]
     },
     "execution_count": 2,
     "metadata": {},
     "output_type": "execute_result"
    }
   ],
   "source": [
    "os.system"
   ]
  },
  {
   "cell_type": "code",
   "execution_count": 3,
   "id": "263bab17-b91e-4478-a7e9-cf55f5af3437",
   "metadata": {},
   "outputs": [
    {
     "name": "stdout",
     "output_type": "stream",
     "text": [
      "C:\\Users\\hi\n"
     ]
    }
   ],
   "source": [
    "cd"
   ]
  },
  {
   "cell_type": "code",
   "execution_count": null,
   "id": "2bcdb117-bb13-444f-82c7-00a423a6645f",
   "metadata": {},
   "outputs": [],
   "source": []
  },
  {
   "cell_type": "code",
   "execution_count": null,
   "id": "57cb612f-432b-4776-a224-d197e997dd95",
   "metadata": {},
   "outputs": [],
   "source": []
  },
  {
   "cell_type": "code",
   "execution_count": 4,
   "id": "afce6490-f0d7-47b3-9737-c991fa87a027",
   "metadata": {},
   "outputs": [
    {
     "ename": "ImportError",
     "evalue": "cannot import name 'StreamlitNotebook' from 'streamlit_jupyter' (C:\\Users\\hi\\anaconda3\\Lib\\site-packages\\streamlit_jupyter\\__init__.py)",
     "output_type": "error",
     "traceback": [
      "\u001b[1;31m---------------------------------------------------------------------------\u001b[0m",
      "\u001b[1;31mImportError\u001b[0m                               Traceback (most recent call last)",
      "Cell \u001b[1;32mIn[4], line 1\u001b[0m\n\u001b[1;32m----> 1\u001b[0m \u001b[38;5;28;01mfrom\u001b[39;00m \u001b[38;5;21;01mstreamlit_jupyter\u001b[39;00m \u001b[38;5;28;01mimport\u001b[39;00m StreamlitNotebook\n\u001b[0;32m      2\u001b[0m \u001b[38;5;28;01mimport\u001b[39;00m \u001b[38;5;21;01mstreamlit\u001b[39;00m \u001b[38;5;28;01mas\u001b[39;00m \u001b[38;5;21;01mst\u001b[39;00m\n\u001b[0;32m      3\u001b[0m \u001b[38;5;28;01mimport\u001b[39;00m \u001b[38;5;21;01mpandas\u001b[39;00m \u001b[38;5;28;01mas\u001b[39;00m \u001b[38;5;21;01mpd\u001b[39;00m\n",
      "\u001b[1;31mImportError\u001b[0m: cannot import name 'StreamlitNotebook' from 'streamlit_jupyter' (C:\\Users\\hi\\anaconda3\\Lib\\site-packages\\streamlit_jupyter\\__init__.py)"
     ]
    }
   ],
   "source": [
    "from streamlit_jupyter import StreamlitNotebook\n",
    "import streamlit as st\n",
    "import pandas as pd\n",
    "import joblib\n",
    "\n",
    "# Initialize StreamlitNotebook\n",
    "app = StreamlitNotebook()\n",
    "\n",
    "# Define the Streamlit app\n",
    "def streamlit_app():\n",
    "    try:\n",
    "        model = joblib.load('model.pkl')\n",
    "        st.success(\"Model loaded successfully.\")\n",
    "    except:\n",
    "        st.warning(\"Model not found. Running in input demo mode.\")\n",
    "\n",
    "    st.title(\"Insurance Data Input Form\")\n",
    "    st.header(\"Input Details\")\n",
    "\n",
    "    age = st.slider(\"Age\", 18, 100, 25)\n",
    "    sex = st.selectbox(\"Sex\", [\"Male\", \"Female\"])\n",
    "    region = st.selectbox(\"Region\", [\"Northwest\", \"Southwest\", \"Northeast\", \"Southeast\"])\n",
    "    children = st.number_input(\"Number of Children\", 0, 10, 0)\n",
    "    bmi = st.number_input(\"BMI\", 10.0, 50.0, 25.0)\n",
    "    smoker = st.selectbox(\"Smoker\", [\"Yes\", \"No\"])\n",
    "\n",
    "    input_data = pd.DataFrame({\n",
    "        \"Age\": [age],\n",
    "        \"Sex\": [sex],\n",
    "        \"Region\": [region],\n",
    "        \"Children\": [children],\n",
    "        \"BMI\": [bmi],\n",
    "        \"Smoker\": [smoker]\n",
    "    })\n",
    "\n",
    "    st.subheader(\"Input Summary\")\n",
    "    st.write(input_data)\n",
    "\n",
    "    if st.button(\"Predict\"):\n",
    "        if 'model' in locals():\n",
    "            st.success(\"This is where the prediction would be shown!\")\n",
    "        else:\n",
    "            st.info(\"No model available. Displaying input details instead.\")\n",
    "\n",
    "# Run the Streamlit app in the notebook\n",
    "app.run(streamlit_app)\n"
   ]
  },
  {
   "cell_type": "code",
   "execution_count": null,
   "id": "6a33c2ee-51f2-48c0-a49c-3261892602d9",
   "metadata": {},
   "outputs": [],
   "source": [
    "!pip install streamlit jupyterlab jupyter-server-proxy\n"
   ]
  },
  {
   "cell_type": "code",
   "execution_count": null,
   "id": "69235e38-b63c-4299-a34f-57339d87da4a",
   "metadata": {},
   "outputs": [],
   "source": [
    "!pip install streamlit-jupyter\n"
   ]
  },
  {
   "cell_type": "code",
   "execution_count": null,
   "id": "483a3425-ed61-40dc-9c31-01008cf28835",
   "metadata": {},
   "outputs": [],
   "source": []
  }
 ],
 "metadata": {
  "kernelspec": {
   "display_name": "Python 3 (ipykernel)",
   "language": "python",
   "name": "python3"
  },
  "language_info": {
   "codemirror_mode": {
    "name": "ipython",
    "version": 3
   },
   "file_extension": ".py",
   "mimetype": "text/x-python",
   "name": "python",
   "nbconvert_exporter": "python",
   "pygments_lexer": "ipython3",
   "version": "3.12.7"
  }
 },
 "nbformat": 4,
 "nbformat_minor": 5
}
